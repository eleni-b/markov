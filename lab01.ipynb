{
 "cells": [
  {
   "cell_type": "markdown",
   "metadata": {},
   "source": [
    "### Άσκηση 11\n",
    "\n",
    "Για τη διάταξη των 3 βιβλίων στο ράφι, υπάρχουν $3!=6$ δυνατές μεταθέσεις. Συγκεκριμένα, θα συμβολίσουμε με τον εξής τρόπο τις καταστάσεις, για τον πίνακα πιθανοτήτων μετάβασης: $1 = ABC$, $2 = ACB$, $3 = BAC$, $4 = BCA$, $5 = CAB$, $6 = CBA$, όπου $A, B, C$ οι συμβολισμοί των βιβλίων από υπόθεση. Παραδείγματος χάριν, αν από την κατάσταση $ABC$ επιλέξουμε το βιβλίο $B$ με πιθανότητα $q$ θα οδηγηθούμε στην $BAC$, αφού μετά το πέρας της ανάγνωσης το τοποθετούμε στην αριστερότερη θέση, ενώ με πιθανότητα 0 στις καταστάσεις $BCA$, καθώς η κατάσταση αυτή δεν μπορεί να προκύψει με μία επιλογή βιβλίου. Κατ'αντιστοιχία συμπληρώνονται οι υπόλοιπες μεταβάσεις. Ο πίνακας πιθανοτήτων μετάβασης της αλυσίδας Markov που αντιστοιχεί στη διάταξη των βιβλίων στον χώρο $Χ$, θα είναι ο εξής: $$ $$\n",
    "$$\n",
    "P = \n",
    "\\begin{pmatrix}\n",
    "p & 0 & q & 0 & r & 0 \\\\\n",
    "0 & p & q & 0 & r & 0 \\\\\n",
    "p & 0 & q & 0 & 0 & r \\\\\n",
    "p & 0 & 0 & q & 0 & r \\\\\n",
    "0 & p & 0 & q & r & 0 \\\\\n",
    "0 & p & 0 & q & 0 & r \n",
    "\\end{pmatrix}\n",
    "$$\n",
    "\n",
    "και αρχική κατανομή:\n",
    "$$ \\pi_0 = (1, 0, 0, 0, 0, 0 ) $$\n",
    "\n",
    "\n",
    "Διευκρίνηση υλοποίησης: Θέσαμε συγκεκριμένες τιμές για τις $p, q, r$, έτσι ώστε όταν τρέξουμε τον κώδικα περισσότερες φορές, να προκύπτουν όλα τα δυνατά βήματα για συγκεκριμένο συνδυασμό. Εναλλακτικά, θα μπορούσαμε να θέτουμε τις τιμές ως p=random.random(), με χρήση της βιβλιοθήκης random της python, αλλά κάτι τέτοιο απαιτεί πολλές επαναλήψεις προκειμένου να ικανοποιούν τον περιορισμό αθροίσματος ίσου με 1 οι τρείς μεταβλητές, ή αλλιώς θα μπορούσαν τα δεδομένα να εισάγονται από το χρήστη, πάντα με τον περιορισμό ότι πρέπει να αθροίζονται στο 1.  \n"
   ]
  },
  {
   "cell_type": "code",
   "execution_count": 1,
   "metadata": {
    "collapsed": false
   },
   "outputs": [
    {
     "name": "stdout",
     "output_type": "stream",
     "text": [
      "At time 0 the chain is in state 0\n",
      "At time 1 the chain is in state 4\n",
      "At time 2 the chain is in state 3\n",
      "At time 3 the chain is in state 0\n",
      "At time 4 the chain is in state 4\n",
      "At time 5 the chain is in state 3\n",
      "At time 6 the chain is in state 5\n",
      "At time 7 the chain is in state 1\n",
      "At time 8 the chain is in state 4\n",
      "At time 9 the chain is in state 4\n",
      "At time 10 the chain is in state 4\n",
      "At time 11 the chain is in state 3\n",
      "At time 12 the chain is in state 0\n",
      "At time 13 the chain is in state 4\n",
      "At time 14 the chain is in state 3\n",
      "At time 15 the chain is in state 3\n",
      "At time 16 the chain is in state 5\n",
      "At time 17 the chain is in state 5\n",
      "At time 18 the chain is in state 5\n",
      "At time 19 the chain is in state 5\n",
      "At time 20 the chain is in state 5\n"
     ]
    }
   ],
   "source": [
    "from simple_markov_chain_lib import markov_chain  # import markov chain simulator\n",
    "\n",
    "# Assigning probabilities for each choice of book, p,q,r must sum to 1\n",
    "p = 0.2\n",
    "q = 0.3\n",
    "r = 0.5\n",
    "    \n",
    "\n",
    "# Transition Table\n",
    "markov_table = {\n",
    "    0: {0: p, 2: q, 4: r},  \n",
    "    1: {1: p, 2: q, 4: r}, \n",
    "    2: {0: p, 2: q, 5: r},  \n",
    "    3: {0: p, 3: q, 5: r},  \n",
    "    4: {1: p, 3: q, 4: r}, \n",
    "    5: {1: p, 3: q, 5: r}  \n",
    "}\n",
    "\n",
    "# Initial distribution, ABC as initial state (#0)\n",
    "init_dist = {0: 1.}\n",
    "\n",
    "mc = markov_chain(markov_table, init_dist)\n",
    "\n",
    "mc.start()\n",
    "print(\"At time {} the chain is in state {}\".format(mc.steps, mc.running_state))\n",
    "for i in range(20):\n",
    "    mc.move()\n",
    "    print(\"At time {} the chain is in state {}\".format(mc.steps, mc.running_state))"
   ]
  }
 ],
 "metadata": {
  "kernelspec": {
   "display_name": "Python 3",
   "language": "python",
   "name": "python3"
  },
  "language_info": {
   "codemirror_mode": {
    "name": "ipython",
    "version": 3
   },
   "file_extension": ".py",
   "mimetype": "text/x-python",
   "name": "python",
   "nbconvert_exporter": "python",
   "pygments_lexer": "ipython3",
   "version": "3.6.0"
  }
 },
 "nbformat": 4,
 "nbformat_minor": 2
}
