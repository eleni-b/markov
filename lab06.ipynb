{
 "cells": [
  {
   "cell_type": "markdown",
   "metadata": {},
   "source": [
    "# Παραδοτέο 1\n",
    "\n",
    "Στο παρακάτω κελί κώδικα, φαίνεται η διαδικασία υπολογισμού του εκτιμώμενου όγκου, με Monte Carlo, της μοναδιαίας μπάλας $d$ διαστάσεων. Έπειτα, συγκρίνεται με τον θεωρητικά υπολογισμένο όγκο, και υπολογίζεται το σχετικό σφάλμα εκτίμησης. Η διαδικασία $vol(N,d)$, τερματίζει όταν κανένα από τα $Ν$ δείγματα δεν βρίσκεται μέσα στη μπάλα, δηλαδή όταν $nhits == 0$, οπότε και $vol(N,d) == 0$ και άρα τερματίζει όταν βρει μηδενική εκτίμηση όγκου. \n",
    "\n",
    "Στο ίδιο κελί κώδικα φαίνεται και το αντίστοιχο plot για τα δεδομένα $d - logp(d)$. Βλέπουμε ότι αύξηση της διάστασης συνεπάγεται μείωση του $log p(d)$ και άρα και του $p(d)$, δηλαδή όσο αυξάνεται η διάσταση μειώνεται η πιθανότητα να πετύχουμε σημεία μέσα στη μοναδιαία μπάλα για $N$ αριθμό δειγμάτων, καθώς όπως αναφέρεται και στην εκφώνηση της άσκησης, σε μεγάλες διαστάσεις τα σημεία του μοναδιαίου κύβου τείνουν να συσσωρρεύονται στις γωνίες του. \n",
    "\n",
    "Προφανώς, επειδή η θεωρητική τιμή του όγκου, ως τιμή, αυξάνεται πιο γρήγορα από την εκτίμηση του όγκου όσο αυξάνεται η διάσταση, το σχετικό σφάλμα αυξάνεται όσο αυξάνεται η διάσταση. Αυτό οφείλεται και στο επιχείρημα που παρουσιάσαμε παραπάνω για τα δείγματα που λαμβάνουμε όσο αυξάνουν οι διαστάσεις. "
   ]
  },
  {
   "cell_type": "code",
   "execution_count": 1,
   "metadata": {
    "collapsed": false
   },
   "outputs": [
    {
     "name": "stdout",
     "output_type": "stream",
     "text": [
      "The Monte Carlo estimate of ω( 2 ) is  : 3.14196 \n",
      "The actual value of ω( 2 ) is  : 3.14159 \n",
      "The relative error is 0.01182%\n",
      "The Monte Carlo estimate of ω( 3 ) is  : 4.19163 \n",
      "The actual value of ω( 3 ) is  : 4.18879 \n",
      "The relative error is 0.06784%\n",
      "The Monte Carlo estimate of ω( 4 ) is  : 4.94570 \n",
      "The actual value of ω( 4 ) is  : 4.93480 \n",
      "The relative error is 0.22075%\n",
      "The Monte Carlo estimate of ω( 5 ) is  : 5.23693 \n",
      "The actual value of ω( 5 ) is  : 5.26379 \n",
      "The relative error is 0.51030%\n",
      "The Monte Carlo estimate of ω( 6 ) is  : 5.19866 \n",
      "The actual value of ω( 6 ) is  : 5.16771 \n",
      "The relative error is 0.59878%\n",
      "The Monte Carlo estimate of ω( 7 ) is  : 4.67648 \n",
      "The actual value of ω( 7 ) is  : 4.72477 \n",
      "The relative error is 1.02198%\n",
      "The Monte Carlo estimate of ω( 8 ) is  : 4.05478 \n",
      "The actual value of ω( 8 ) is  : 4.05871 \n",
      "The relative error is 0.09678%\n",
      "The Monte Carlo estimate of ω( 9 ) is  : 3.30598 \n",
      "The actual value of ω( 9 ) is  : 3.29851 \n",
      "The relative error is 0.22662%\n",
      "The Monte Carlo estimate of ω( 10 ) is  : 2.48218 \n",
      "The actual value of ω( 10 ) is  : 2.55016 \n",
      "The relative error is 2.66603%\n",
      "The Monte Carlo estimate of ω( 11 ) is  : 1.99680 \n",
      "The actual value of ω( 11 ) is  : 1.88410 \n",
      "The relative error is 5.98142%\n",
      "The Monte Carlo estimate of ω( 12 ) is  : 1.42950 \n",
      "The actual value of ω( 12 ) is  : 1.33526 \n",
      "The relative error is 7.05788%\n",
      "The Monte Carlo estimate of ω( 13 ) is  : 1.01581 \n",
      "The actual value of ω( 13 ) is  : 0.91063 \n",
      "The relative error is 11.55018%\n",
      "The Monte Carlo estimate of ω( 14 ) is  : 0.55706 \n",
      "The actual value of ω( 14 ) is  : 0.59926 \n",
      "The relative error is 7.04339%\n",
      "The Monte Carlo estimate of ω( 15 ) is  : 0.32768 \n",
      "The actual value of ω( 15 ) is  : 0.38144 \n",
      "The relative error is 14.09470%\n",
      "The Monte Carlo estimate of ω( 16 ) is  : 0.26214 \n",
      "The actual value of ω( 16 ) is  : 0.23533 \n",
      "The relative error is 11.39391%\n",
      "The Monte Carlo estimate of ω( 17 ) is  : 0.26214 \n",
      "The actual value of ω( 17 ) is  : 0.14098 \n",
      "The relative error is 85.94265%\n"
     ]
    },
    {
     "data": {
      "image/png": "[encoded data removed]",
      "text/plain": [
       "<matplotlib.figure.Figure at 0x108101cc0>"
      ]
     },
     "metadata": {},
     "output_type": "display_data"
    }
   ],
   "source": [
    "from numpy import random\n",
    "from math import gamma, pi \n",
    "import matplotlib.pyplot as plt\n",
    "import numpy as np\n",
    "\n",
    "fig, ax = plt.subplots()  # initiate plots\n",
    "\n",
    "\n",
    "ds = []\n",
    "pds = []\n",
    "\n",
    "def vol(N,d):\n",
    "    nhits = 0\n",
    "    for i in range(N):\n",
    "        x = random.uniform(-1,1,d)\n",
    "        if sum(x ** 2) < 1: \n",
    "            nhits += 1\n",
    "    return 2 ** d * nhits / N\n",
    "\n",
    "def Vol1(d):\n",
    "    x = d/2\n",
    "    return pi ** x / gamma(x + 1)\n",
    "\n",
    "d = 2\n",
    "N = 1000000\n",
    "u = vol(N,d)\n",
    "\n",
    "while (u > 0.0):\n",
    "    ds.append(d)\n",
    "    pds.append(u)\n",
    "    print (\"The Monte Carlo estimate of ω(\", d,\") is  : %.5f \" % u)\n",
    "    print(\"The actual value of ω(\", d,\") is  : %.5f \" % Vol1(d))\n",
    "    print(\"The relative error is %.5f%%\" % (100 * abs(1- u/Vol1(d))))\n",
    "    d = d+1\n",
    "    u = vol(N,d)\n",
    "\n",
    "x = np.array(ds)\n",
    "y = np.array(pds)\n",
    "\n",
    "\n",
    "logy = np.log2(y)\n",
    "deg = np.polyfit(x, logy, 1)\n",
    "\n",
    "\n",
    "plt.plot(x, logy, label=\"Results\")\n",
    "plt.xlabel(\"d\")\n",
    "plt.ylabel(\"logp(d)\")\n",
    "plt.show()\n",
    "\n",
    "pass"
   ]
  },
  {
   "cell_type": "code",
   "execution_count": 15,
   "metadata": {
    "collapsed": false
   },
   "outputs": [
    {
     "name": "stdout",
     "output_type": "stream",
     "text": [
      "Needed 62453619 samples\n",
      "383.3158243279904\n"
     ]
    }
   ],
   "source": [
    "import timeit\n",
    "\n",
    "start = timeit.default_timer()\n",
    "\n",
    "nhits = 0\n",
    "counter = 0\n",
    "\n",
    "while (nhits < 1):\n",
    "    counter += 1\n",
    "    x = random.uniform(-1,1,20)\n",
    "    if sum(x ** 2) < 1: \n",
    "        nhits += 1\n",
    "\n",
    "print (\"Needed %d samples\" % counter)\n",
    "stop = timeit.default_timer()\n",
    "\n",
    "print (stop - start) \n"
   ]
  },
  {
   "cell_type": "markdown",
   "metadata": {},
   "source": [
    "Όπως φαίνεται στο παραπάνω κελί, χρειάστηκαν 383.32 seconds περίπου για να βρεθεί ένα σημείο που να ανήκει στη μοναδιαία μπάλα. Αυτό σημαίνει ότι, εφόσον τα $x$ που τραβήξαμε από τον μοναδιαίο κύβο επιλέγονται με uniform τρόπο, το να πετύχουμε σημείο μέσα στη μπάλα είναι ανεξάρτητο από το προηγούμενο σημείο, και έτσι συνολικά έχουμε ένα γινόμενο από χρόνους ανεξάρτητων ενδεχομένων. Έτσι, για να πετύχουμε 1000 σημεία, θα χρειαστούμε 383316 περίπου seconds. "
   ]
  },
  {
   "cell_type": "markdown",
   "metadata": {},
   "source": [
    "# Παραδοτέο 2\n",
    "\n",
    "## Ερώτημα α)\n",
    "Πολύ μικρή τιμή του delta συνεπάγεται ότι η uniform επιλογή γίνεται από ένα πολύ μικρό διάστημα, οπότε το βήμα είναι πολύ μικρό που παίρνουμε, και έτσι όλα τα δεδομένα σημεία στη μπάλα είναι συγκεντρωμένα σε μια πολύ μικρή περιοχή πολύ κοντά στο κέντρο. \n",
    "\n",
    "Αντιθέτως, μεγάλη τιμή του delta, δίνει μεγάλη περιοχή, οπότε τα δεδομένα τείνουν να συγκεντρώνονται στους άξονες, αφού η τιμή 20 είναι μεγαλύτερη από το πιθανό βήμα που μπορεί να γίνει εντός μπάλας και έτσι \"κολλάει\" στα x = 0, y = 0 πολύ συχνά."
   ]
  },
  {
   "cell_type": "code",
   "execution_count": 12,
   "metadata": {
    "collapsed": false
   },
   "outputs": [
    {
     "name": "stdout",
     "output_type": "stream",
     "text": [
      "Plot for delta = 1.00\n"
     ]
    },
    {
     "data": {
      "image/png": "[encoded data removed]",
      "text/plain": [
       "<matplotlib.figure.Figure at 0x1123b0518>"
      ]
     },
     "metadata": {},
     "output_type": "display_data"
    },
    {
     "name": "stdout",
     "output_type": "stream",
     "text": [
      "Plot for delta = 0.01\n"
     ]
    },
    {
     "data": {
      "image/png": "[encoded data removed]",
      "text/plain": [
       "<matplotlib.figure.Figure at 0x1119474a8>"
      ]
     },
     "metadata": {},
     "output_type": "display_data"
    },
    {
     "name": "stdout",
     "output_type": "stream",
     "text": [
      "Plot for delta = 20.00\n"
     ]
    },
    {
     "data": {
      "image/png": "[encoded data removed]",
      "text/plain": [
       "<matplotlib.figure.Figure at 0x111c641d0>"
      ]
     },
     "metadata": {},
     "output_type": "display_data"
    }
   ],
   "source": [
    "import random as r\n",
    "\n",
    "deltas = [1.0, 0.01, 20]\n",
    "N = 100 # number of steps to approach equilibrium\n",
    "samples = 1000 \n",
    "\n",
    "for delta in deltas:\n",
    "    point_x = []\n",
    "    point_y = []\n",
    "    for _ in range(samples):\n",
    "        x = [0,0]  ## start at the centre of th disc. This variable will keep the position of the chain\n",
    "        R_sq = 0.0  ## this variable keeps the squared distance from 0. It saves some computations to keep it\n",
    "    \n",
    "        for _ in range(N):\n",
    "            k = r.choice([0,1])  ## choose a jump direction at random\n",
    "            z = r.uniform(-delta,delta) ## choose a jump size uniformly in (-delta,delta)\n",
    "            x_prop_k = x[k] + z   ## propose a jump by z in the direction k\n",
    "            R_sqprop = R_sq - x[k]**2+ x_prop_k**2 ## compute the squared distance from 0 after the proposed jump \n",
    "            if R_sqprop < 1.0: \n",
    "                R_sq = R_sqprop\n",
    "                x[k]= x_prop_k   ## if the proposed jump leads to a point in the disc, then jump\n",
    "   \n",
    "        point_x.append(x[0])\n",
    "        point_y.append(x[1])\n",
    "    \n",
    "    fig, ax = plt.subplots()\n",
    "    \n",
    "    print (\"Plot for delta = %.2f\" % delta)\n",
    "\n",
    "    plt.scatter(point_x, point_y, color = 'red', s = 1) \n",
    "\n",
    "    ax.set_xlim([-1, 1])\n",
    "    ax.set_ylim([-1, 1])\n",
    "    ax.set_aspect('equal') \n",
    "\n",
    "    plt.show()"
   ]
  },
  {
   "cell_type": "markdown",
   "metadata": {},
   "source": [
    "## Ερώτημα β)\n",
    "\n",
    "Η προσέγγιση που κάναμε βρίσκει με τον MCMC τρόπο d-1 στοιχεία, για την d-οστή διάσταση, και μετά με τον απλό τρόπο uniform επιλογής, με χρήση της random, βρίσκει το d-οστό στοιχείο. Κρατάμε τον αριθμό των nhits σε έναν πίνακα, και στον πίνακα data κρατάμε το γινόμενο $\\frac{D_i}{C_i}$, δηλαδή πόσα στοιχεία από τα συνολικά δείγματα που εξετάσαμε ήταν μέσα στη μπάλα διαστάσεων d. Κατά τον τύπο της εκφώνησης, την τιμή αυτή πολλαπλασιάζουμε τελικά επί $2*D_{i-1}$ και βρίσκουμε τελικά τον όγκο $D_i$. "
   ]
  },
  {
   "cell_type": "code",
   "execution_count": 51,
   "metadata": {
    "collapsed": false
   },
   "outputs": [
    {
     "name": "stdout",
     "output_type": "stream",
     "text": [
      "47.764\n",
      "1158.468056\n",
      "28326.8609053\n",
      "674405.904434\n",
      "16205973.8835\n",
      "391244621.496\n",
      "9414128082.45\n",
      "226165013053.0\n",
      "5.39629721144e+12\n",
      "1.28334740282e+14\n",
      "3.08337047003e+15\n",
      "7.4370895737e+16\n",
      "1.78073672753e+18\n",
      "4.33609393153e+19\n",
      "1.03173019007e+21\n",
      "2.48275552938e+22\n",
      "5.94768914618e+23\n",
      "1.443385202e+25\n",
      "3.4984770526e+26\n",
      "8.30258574122e+27\n",
      "1.98249142329e+29\n",
      "4.8741534133e+30\n",
      "1.16657987794e+32\n",
      "2.78532611657e+33\n",
      "6.71764952793e+34\n",
      "1.63373236519e+36\n",
      "3.98728721049e+37\n",
      "9.56948930518e+38\n",
      "2.28155764014e+40\n",
      "5.53962195026e+41\n",
      "1.35875847196e+43\n",
      "3.27487966912e+44\n",
      "7.90228464158e+45\n",
      "1.88927821211e+47\n",
      "4.4277124179e+48\n",
      "1.06442206526e+50\n",
      "2.54673623335e+51\n",
      "6.27261134274e+52\n",
      "1.52073189393e+54\n",
      "3.64184873959e+55\n",
      "8.88246907586e+56\n",
      "2.06890469715e+58\n",
      "4.98481897731e+59\n",
      "1.2137037246e+61\n",
      "2.84807716014e+62\n",
      "6.83196749174e+63\n",
      "1.63926227997e+65\n",
      "3.86570830862e+66\n",
      "9.36351866514e+67\n",
      "2.24593358702e+69\n",
      "5.40596214396e+70\n",
      "1.27796945083e+72\n",
      "3.06866024534e+73\n",
      "7.26351880071e+74\n",
      "1.73685261563e+76\n",
      "4.14551982298e+77\n",
      "9.97660800598e+78\n",
      "2.40974989776e+80\n",
      "5.77183295512e+81\n",
      "1.38777951573e+83\n",
      "3.34898952736e+84\n",
      "8.01681113059e+85\n",
      "1.87577346834e+87\n",
      "4.59789592559e+88\n",
      "1.09531076739e+90\n",
      "2.66927234014e+91\n",
      "6.4201338325e+92\n",
      "1.54198774389e+94\n",
      "3.72019963091e+95\n",
      "8.98204998886e+96\n",
      "2.16772794431e+98\n",
      "5.19951224723e+99\n",
      "1.25765802236e+101\n",
      "2.99976591493e+102\n",
      "7.26123337368e+103\n",
      "1.74095331367e+105\n",
      "4.2148479724e+106\n",
      "1.02041469412e+108\n",
      "2.44838301707e+109\n",
      "5.88003665379e+110\n",
      "1.41708883356e+112\n",
      "3.36756990408e+113\n",
      "8.07206506009e+114\n",
      "1.95440839235e+116\n",
      "4.66009137071e+117\n",
      "1.11981995638e+119\n",
      "2.70436519466e+120\n",
      "6.5072435314e+121\n",
      "1.56043699883e+123\n",
      "3.70447743522e+124\n",
      "8.80257928158e+125\n",
      "2.06649351214e+127\n",
      "4.91660136409e+128\n",
      "1.15431966826e+130\n",
      "2.79160668572e+131\n",
      "6.54185110732e+132\n",
      "1.57475439855e+134\n",
      "3.76240320903e+135\n"
     ]
    }
   ],
   "source": [
    "import random as r\n",
    "import numpy as np\n",
    "\n",
    "delta = 1.0\n",
    "d = 1\n",
    "N = 100 # number of steps to approach equilibrium\n",
    "samples = 1000 \n",
    "\n",
    "nhits = np.zeros((100,), dtype=np.int)\n",
    "data = np.zeros(101)\n",
    "\n",
    "\n",
    "for d in range(2,100):\n",
    "    nhits[d] = 0\n",
    "    total = 1000\n",
    "    for _ in range(samples):\n",
    "        x = np.zeros((100,), dtype=np.int)\n",
    "        R_sq = 0.0  ## this variable keeps the squared distance from 0. It saves some computations to keep it\n",
    "    \n",
    "        for _ in range(N):\n",
    "            k = r.choice([0,d-1])  ## choose a jump direction at random\n",
    "            z = np.random.uniform(-1,1) ## choose a jump size uniformly in (-delta,delta)\n",
    "            x_prop_k = x[k] + z   ## propose a jump by z in the direction k\n",
    "            R_sqprop = R_sq - x[k]**2+ x_prop_k**2 ## compute the squared distance from 0 after the proposed jump \n",
    "            if R_sqprop < 1.0: \n",
    "                nhits[d] += 1\n",
    "                R_sq = R_sqprop\n",
    "                x[k]= x_prop_k   ## if the proposed jump leads to a point in the disc, then jump\n",
    "        \n",
    "        summy = 0\n",
    "        \n",
    "        if d>1:\n",
    "            for _ in range(d-1):\n",
    "                summy += x[d]**2\n",
    "            new_x = np.random.uniform(-1,1)\n",
    "            while (summy+new_x**2 >= 1.0):\n",
    "                new_x = np.random.uniform(-1,1)\n",
    "                total += 1\n",
    "\n",
    "    data[d] = (nhits[d]/ (total))\n",
    "\n",
    "vol = np.zeros(101)\n",
    "vol[1] = 2\n",
    "\n",
    "for d in range(2,100):\n",
    "    vol[d] = 2*data[d]*vol[d-1]\n",
    "    print (vol[d])"
   ]
  }
 ],
 "metadata": {
  "kernelspec": {
   "display_name": "Python 3",
   "language": "python",
   "name": "python3"
  },
  "language_info": {
   "codemirror_mode": {
    "name": "ipython",
    "version": 3
   },
   "file_extension": ".py",
   "mimetype": "text/x-python",
   "name": "python",
   "nbconvert_exporter": "python",
   "pygments_lexer": "ipython3",
   "version": "3.6.0"
  }
 },
 "nbformat": 4,
 "nbformat_minor": 2
}
