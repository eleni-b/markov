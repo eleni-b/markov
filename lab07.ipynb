{
 "cells": [
  {
   "cell_type": "markdown",
   "metadata": {},
   "source": [
    "# Παραδοτέο 1\n",
    "\n",
    "Παρακάτω φαίνονται όλα τα ερωτήματα, σε υλοποίηση κώδικα. \n",
    "\n",
    "Παρατηρήσαμε ότι για $10^4$ δείγματα, η τυπική απόκλιση είχε την τιμή 0.00052. Για να μειώσουμε την τιμή αυτή στο μισό, θα έπρεπε να έχουμε εργοδικό μέσο ίσο με 1 (ή πιο κοντά στην τιμή 1), αφού αυτή είναι η θεωρητική τιμή του αθροίσματος. Παρατηρήσαμε ότι $10^3$ δείγματα δίνουν διασπορά 0.003, γεγονός που σημαίνει ότι σίγουρα $10^5$ δείγματα δίνουν μικρότερη τιμή από τη μισή τυπική απόκλιση από 0.00052. Επίσης, $2* 10^4$ δείγματα δίνουν διασπορά 0.0004, ενώ $4*(10^4)$ δίνουν διασπορά 0.00015. Επομένως, περίπου $3*10^4$ δείγματα αρκούν για να επιτευχθεί το ζητούμενο. \n"
   ]
  },
  {
   "cell_type": "code",
   "execution_count": 1,
   "metadata": {
    "collapsed": false
   },
   "outputs": [
    {
     "name": "stdout",
     "output_type": "stream",
     "text": [
      "The simulated ergodic average [X1+X2+X3+...+XN]/N is: 0.9798\n",
      "The actual sum is : 1.0000\n",
      "The relative error is : 0.02062\n",
      "Variance is : 0.00081\n",
      "The simulated ergodic average for the cosine function [X1+X2+X3+...+XN]/N is: 0.2370\n"
     ]
    }
   ],
   "source": [
    "import numpy as np\n",
    "import statistics as stat\n",
    "import math\n",
    "from decimal import Decimal\n",
    "\n",
    "def random_walk_next(state):\n",
    "    if np.random.uniform() < 0.5:\n",
    "        return 0\n",
    "    return state + 1\n",
    "\n",
    "N = 10**4\n",
    "data = []\n",
    "\n",
    "for j in range(50):\n",
    "    running_state = 0\n",
    "    sum_result = 0\n",
    "    actual_sum = 0\n",
    "    for i in range(N):\n",
    "        running_state = random_walk_next(running_state)\n",
    "        actual_sum += float(i/(2**(i+1)))\n",
    "        sum_result += running_state\n",
    "    data.append(sum_result / N)\n",
    "    if (j == 1): \n",
    "        print(\"The simulated ergodic average [X1+X2+X3+...+XN]/N is: %.4f\" % (sum_result / N))\n",
    "        print (\"The actual sum is : %.4f\" % actual_sum)\n",
    "        print(\"The relative error is : %.5f\" %  (abs(1- actual_sum/ (sum_result / N))))\n",
    "\n",
    "print (\"Variance is : %.5f\" % stat.variance(data))\n",
    "\n",
    "\n",
    "running_state = 0\n",
    "sum_result = 0\n",
    "actual_sum = 0\n",
    "\n",
    "for i in range(N):\n",
    "        running_state = random_walk_next(running_state)\n",
    "        f_x = math.cos(running_state + math.cos(running_state))\n",
    "        # u =  Decimal(math.cos(i + math.cos(i)))\n",
    "        # u = float(u/ (2**i))\n",
    "        # actual_sum += u\n",
    "        sum_result += f_x\n",
    "\n",
    "print(\"The simulated ergodic average for the cosine function [X1+X2+X3+...+XN]/N is: %.4f\" % (sum_result / N))\n",
    "# print (\"The actual sum is : %.4f\" % actual_sum)\n",
    "# print(\"The relative error is : %.5f\" %  (abs(1- actual_sum/ (sum_result / N))))\n",
    "\n"
   ]
  }
 ],
 "metadata": {
  "kernelspec": {
   "display_name": "Python 3",
   "language": "python",
   "name": "python3"
  },
  "language_info": {
   "codemirror_mode": {
    "name": "ipython",
    "version": 3
   },
   "file_extension": ".py",
   "mimetype": "text/x-python",
   "name": "python",
   "nbconvert_exporter": "python",
   "pygments_lexer": "ipython3",
   "version": "3.6.0"
  }
 },
 "nbformat": 4,
 "nbformat_minor": 2
}
